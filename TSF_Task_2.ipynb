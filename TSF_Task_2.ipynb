{
 "cells": [
  {
   "cell_type": "markdown",
   "metadata": {},
   "source": [
    "# The Sparks Foundation\n",
    "## Data Science and Business Analytics "
   ]
  },
  {
   "cell_type": "markdown",
   "metadata": {},
   "source": [
    "# Author: Harshit Raj\n",
    "## Prediction using Unsupervised ML"
   ]
  },
  {
   "cell_type": "markdown",
   "metadata": {},
   "source": [
    "### Task 2 : From the given ‘Iris’ dataset, predict the optimum number of clusters and represent it visually."
   ]
  },
  {
   "cell_type": "code",
   "execution_count": 29,
   "metadata": {
    "id": "wkEzj_S1zd9S"
   },
   "outputs": [],
   "source": [
    "# Importing the libraries\n",
    "import numpy as np\n",
    "import matplotlib.pyplot as plt\n",
    "import pandas as pd\n",
    "from sklearn.cluster import KMeans\n",
    "from sklearn import datasets"
   ]
  },
  {
   "cell_type": "code",
   "execution_count": 30,
   "metadata": {
    "id": "VDhgUFafF-_c"
   },
   "outputs": [],
   "source": [
    "# Load the iris dataset\n",
    "iris_df = pd.read_csv(\"Iris.csv\")"
   ]
  },
  {
   "cell_type": "code",
   "execution_count": 31,
   "metadata": {
    "colab": {
     "base_uri": "https://localhost:8080/",
     "height": 203
    },
    "id": "RHv6nzL9zlWD",
    "outputId": "1d021cf5-8cf9-4114-a988-fcd0594db2fd"
   },
   "outputs": [
    {
     "data": {
      "text/html": [
       "<div>\n",
       "<style scoped>\n",
       "    .dataframe tbody tr th:only-of-type {\n",
       "        vertical-align: middle;\n",
       "    }\n",
       "\n",
       "    .dataframe tbody tr th {\n",
       "        vertical-align: top;\n",
       "    }\n",
       "\n",
       "    .dataframe thead th {\n",
       "        text-align: right;\n",
       "    }\n",
       "</style>\n",
       "<table border=\"1\" class=\"dataframe\">\n",
       "  <thead>\n",
       "    <tr style=\"text-align: right;\">\n",
       "      <th></th>\n",
       "      <th>Id</th>\n",
       "      <th>SepalLengthCm</th>\n",
       "      <th>SepalWidthCm</th>\n",
       "      <th>PetalLengthCm</th>\n",
       "      <th>PetalWidthCm</th>\n",
       "      <th>Species</th>\n",
       "    </tr>\n",
       "  </thead>\n",
       "  <tbody>\n",
       "    <tr>\n",
       "      <th>0</th>\n",
       "      <td>1</td>\n",
       "      <td>5.1</td>\n",
       "      <td>3.5</td>\n",
       "      <td>1.4</td>\n",
       "      <td>0.2</td>\n",
       "      <td>Iris-setosa</td>\n",
       "    </tr>\n",
       "    <tr>\n",
       "      <th>1</th>\n",
       "      <td>2</td>\n",
       "      <td>4.9</td>\n",
       "      <td>3.0</td>\n",
       "      <td>1.4</td>\n",
       "      <td>0.2</td>\n",
       "      <td>Iris-setosa</td>\n",
       "    </tr>\n",
       "    <tr>\n",
       "      <th>2</th>\n",
       "      <td>3</td>\n",
       "      <td>4.7</td>\n",
       "      <td>3.2</td>\n",
       "      <td>1.3</td>\n",
       "      <td>0.2</td>\n",
       "      <td>Iris-setosa</td>\n",
       "    </tr>\n",
       "    <tr>\n",
       "      <th>3</th>\n",
       "      <td>4</td>\n",
       "      <td>4.6</td>\n",
       "      <td>3.1</td>\n",
       "      <td>1.5</td>\n",
       "      <td>0.2</td>\n",
       "      <td>Iris-setosa</td>\n",
       "    </tr>\n",
       "    <tr>\n",
       "      <th>4</th>\n",
       "      <td>5</td>\n",
       "      <td>5.0</td>\n",
       "      <td>3.6</td>\n",
       "      <td>1.4</td>\n",
       "      <td>0.2</td>\n",
       "      <td>Iris-setosa</td>\n",
       "    </tr>\n",
       "  </tbody>\n",
       "</table>\n",
       "</div>"
      ],
      "text/plain": [
       "   Id  SepalLengthCm  SepalWidthCm  PetalLengthCm  PetalWidthCm      Species\n",
       "0   1            5.1           3.5            1.4           0.2  Iris-setosa\n",
       "1   2            4.9           3.0            1.4           0.2  Iris-setosa\n",
       "2   3            4.7           3.2            1.3           0.2  Iris-setosa\n",
       "3   4            4.6           3.1            1.5           0.2  Iris-setosa\n",
       "4   5            5.0           3.6            1.4           0.2  Iris-setosa"
      ]
     },
     "execution_count": 31,
     "metadata": {},
     "output_type": "execute_result"
    }
   ],
   "source": [
    "# See the first 5 rows\n",
    "iris_df.head()"
   ]
  },
  {
   "cell_type": "code",
   "execution_count": 32,
   "metadata": {
    "colab": {
     "base_uri": "https://localhost:8080/",
     "height": 203
    },
    "id": "Pqvtlmsuzn8f",
    "outputId": "aeaa39c0-c607-488c-9a9c-10bf5ebd40c4"
   },
   "outputs": [
    {
     "data": {
      "text/html": [
       "<div>\n",
       "<style scoped>\n",
       "    .dataframe tbody tr th:only-of-type {\n",
       "        vertical-align: middle;\n",
       "    }\n",
       "\n",
       "    .dataframe tbody tr th {\n",
       "        vertical-align: top;\n",
       "    }\n",
       "\n",
       "    .dataframe thead th {\n",
       "        text-align: right;\n",
       "    }\n",
       "</style>\n",
       "<table border=\"1\" class=\"dataframe\">\n",
       "  <thead>\n",
       "    <tr style=\"text-align: right;\">\n",
       "      <th></th>\n",
       "      <th>Id</th>\n",
       "      <th>SepalLengthCm</th>\n",
       "      <th>SepalWidthCm</th>\n",
       "      <th>PetalLengthCm</th>\n",
       "      <th>PetalWidthCm</th>\n",
       "      <th>Species</th>\n",
       "    </tr>\n",
       "  </thead>\n",
       "  <tbody>\n",
       "    <tr>\n",
       "      <th>145</th>\n",
       "      <td>146</td>\n",
       "      <td>6.7</td>\n",
       "      <td>3.0</td>\n",
       "      <td>5.2</td>\n",
       "      <td>2.3</td>\n",
       "      <td>Iris-virginica</td>\n",
       "    </tr>\n",
       "    <tr>\n",
       "      <th>146</th>\n",
       "      <td>147</td>\n",
       "      <td>6.3</td>\n",
       "      <td>2.5</td>\n",
       "      <td>5.0</td>\n",
       "      <td>1.9</td>\n",
       "      <td>Iris-virginica</td>\n",
       "    </tr>\n",
       "    <tr>\n",
       "      <th>147</th>\n",
       "      <td>148</td>\n",
       "      <td>6.5</td>\n",
       "      <td>3.0</td>\n",
       "      <td>5.2</td>\n",
       "      <td>2.0</td>\n",
       "      <td>Iris-virginica</td>\n",
       "    </tr>\n",
       "    <tr>\n",
       "      <th>148</th>\n",
       "      <td>149</td>\n",
       "      <td>6.2</td>\n",
       "      <td>3.4</td>\n",
       "      <td>5.4</td>\n",
       "      <td>2.3</td>\n",
       "      <td>Iris-virginica</td>\n",
       "    </tr>\n",
       "    <tr>\n",
       "      <th>149</th>\n",
       "      <td>150</td>\n",
       "      <td>5.9</td>\n",
       "      <td>3.0</td>\n",
       "      <td>5.1</td>\n",
       "      <td>1.8</td>\n",
       "      <td>Iris-virginica</td>\n",
       "    </tr>\n",
       "  </tbody>\n",
       "</table>\n",
       "</div>"
      ],
      "text/plain": [
       "      Id  SepalLengthCm  SepalWidthCm  PetalLengthCm  PetalWidthCm  \\\n",
       "145  146            6.7           3.0            5.2           2.3   \n",
       "146  147            6.3           2.5            5.0           1.9   \n",
       "147  148            6.5           3.0            5.2           2.0   \n",
       "148  149            6.2           3.4            5.4           2.3   \n",
       "149  150            5.9           3.0            5.1           1.8   \n",
       "\n",
       "            Species  \n",
       "145  Iris-virginica  \n",
       "146  Iris-virginica  \n",
       "147  Iris-virginica  \n",
       "148  Iris-virginica  \n",
       "149  Iris-virginica  "
      ]
     },
     "execution_count": 32,
     "metadata": {},
     "output_type": "execute_result"
    }
   ],
   "source": [
    "# See the last 5 rows\n",
    "iris_df.tail()"
   ]
  },
  {
   "cell_type": "code",
   "execution_count": 33,
   "metadata": {
    "colab": {
     "base_uri": "https://localhost:8080/"
    },
    "id": "a6NBtvBBzshw",
    "outputId": "44770f4f-87bd-49ec-9e55-e3b2c851a921"
   },
   "outputs": [
    {
     "data": {
      "text/plain": [
       "Index(['Id', 'SepalLengthCm', 'SepalWidthCm', 'PetalLengthCm', 'PetalWidthCm',\n",
       "       'Species'],\n",
       "      dtype='object')"
      ]
     },
     "execution_count": 33,
     "metadata": {},
     "output_type": "execute_result"
    }
   ],
   "source": [
    "#Columns of the dataset\n",
    "iris_df.columns"
   ]
  },
  {
   "cell_type": "code",
   "execution_count": 34,
   "metadata": {
    "colab": {
     "base_uri": "https://localhost:8080/",
     "height": 295
    },
    "id": "sz60UlE7zvM3",
    "outputId": "cebc777c-7b4d-4723-d256-a84b352977d5"
   },
   "outputs": [
    {
     "data": {
      "text/html": [
       "<div>\n",
       "<style scoped>\n",
       "    .dataframe tbody tr th:only-of-type {\n",
       "        vertical-align: middle;\n",
       "    }\n",
       "\n",
       "    .dataframe tbody tr th {\n",
       "        vertical-align: top;\n",
       "    }\n",
       "\n",
       "    .dataframe thead th {\n",
       "        text-align: right;\n",
       "    }\n",
       "</style>\n",
       "<table border=\"1\" class=\"dataframe\">\n",
       "  <thead>\n",
       "    <tr style=\"text-align: right;\">\n",
       "      <th></th>\n",
       "      <th>Id</th>\n",
       "      <th>SepalLengthCm</th>\n",
       "      <th>SepalWidthCm</th>\n",
       "      <th>PetalLengthCm</th>\n",
       "      <th>PetalWidthCm</th>\n",
       "    </tr>\n",
       "  </thead>\n",
       "  <tbody>\n",
       "    <tr>\n",
       "      <th>count</th>\n",
       "      <td>150.000000</td>\n",
       "      <td>150.000000</td>\n",
       "      <td>150.000000</td>\n",
       "      <td>150.000000</td>\n",
       "      <td>150.000000</td>\n",
       "    </tr>\n",
       "    <tr>\n",
       "      <th>mean</th>\n",
       "      <td>75.500000</td>\n",
       "      <td>5.843333</td>\n",
       "      <td>3.054000</td>\n",
       "      <td>3.758667</td>\n",
       "      <td>1.198667</td>\n",
       "    </tr>\n",
       "    <tr>\n",
       "      <th>std</th>\n",
       "      <td>43.445368</td>\n",
       "      <td>0.828066</td>\n",
       "      <td>0.433594</td>\n",
       "      <td>1.764420</td>\n",
       "      <td>0.763161</td>\n",
       "    </tr>\n",
       "    <tr>\n",
       "      <th>min</th>\n",
       "      <td>1.000000</td>\n",
       "      <td>4.300000</td>\n",
       "      <td>2.000000</td>\n",
       "      <td>1.000000</td>\n",
       "      <td>0.100000</td>\n",
       "    </tr>\n",
       "    <tr>\n",
       "      <th>25%</th>\n",
       "      <td>38.250000</td>\n",
       "      <td>5.100000</td>\n",
       "      <td>2.800000</td>\n",
       "      <td>1.600000</td>\n",
       "      <td>0.300000</td>\n",
       "    </tr>\n",
       "    <tr>\n",
       "      <th>50%</th>\n",
       "      <td>75.500000</td>\n",
       "      <td>5.800000</td>\n",
       "      <td>3.000000</td>\n",
       "      <td>4.350000</td>\n",
       "      <td>1.300000</td>\n",
       "    </tr>\n",
       "    <tr>\n",
       "      <th>75%</th>\n",
       "      <td>112.750000</td>\n",
       "      <td>6.400000</td>\n",
       "      <td>3.300000</td>\n",
       "      <td>5.100000</td>\n",
       "      <td>1.800000</td>\n",
       "    </tr>\n",
       "    <tr>\n",
       "      <th>max</th>\n",
       "      <td>150.000000</td>\n",
       "      <td>7.900000</td>\n",
       "      <td>4.400000</td>\n",
       "      <td>6.900000</td>\n",
       "      <td>2.500000</td>\n",
       "    </tr>\n",
       "  </tbody>\n",
       "</table>\n",
       "</div>"
      ],
      "text/plain": [
       "               Id  SepalLengthCm  SepalWidthCm  PetalLengthCm  PetalWidthCm\n",
       "count  150.000000     150.000000    150.000000     150.000000    150.000000\n",
       "mean    75.500000       5.843333      3.054000       3.758667      1.198667\n",
       "std     43.445368       0.828066      0.433594       1.764420      0.763161\n",
       "min      1.000000       4.300000      2.000000       1.000000      0.100000\n",
       "25%     38.250000       5.100000      2.800000       1.600000      0.300000\n",
       "50%     75.500000       5.800000      3.000000       4.350000      1.300000\n",
       "75%    112.750000       6.400000      3.300000       5.100000      1.800000\n",
       "max    150.000000       7.900000      4.400000       6.900000      2.500000"
      ]
     },
     "execution_count": 34,
     "metadata": {},
     "output_type": "execute_result"
    }
   ],
   "source": [
    "#getting the statistical overview of the dataset\n",
    "iris_df.describe()"
   ]
  },
  {
   "cell_type": "code",
   "execution_count": 35,
   "metadata": {
    "colab": {
     "base_uri": "https://localhost:8080/"
    },
    "id": "f2wKjJaPzxjz",
    "outputId": "7efc88cb-4063-4726-f6f2-2832c5366737"
   },
   "outputs": [
    {
     "name": "stdout",
     "output_type": "stream",
     "text": [
      "<class 'pandas.core.frame.DataFrame'>\n",
      "RangeIndex: 150 entries, 0 to 149\n",
      "Data columns (total 6 columns):\n",
      " #   Column         Non-Null Count  Dtype  \n",
      "---  ------         --------------  -----  \n",
      " 0   Id             150 non-null    int64  \n",
      " 1   SepalLengthCm  150 non-null    float64\n",
      " 2   SepalWidthCm   150 non-null    float64\n",
      " 3   PetalLengthCm  150 non-null    float64\n",
      " 4   PetalWidthCm   150 non-null    float64\n",
      " 5   Species        150 non-null    object \n",
      "dtypes: float64(4), int64(1), object(1)\n",
      "memory usage: 7.2+ KB\n"
     ]
    }
   ],
   "source": [
    "#getting the datatype of columns\n",
    "iris_df.info()"
   ]
  },
  {
   "cell_type": "code",
   "execution_count": 36,
   "metadata": {
    "colab": {
     "base_uri": "https://localhost:8080/"
    },
    "id": "Nza7RNfvz0GM",
    "outputId": "c2c0d7e7-1b80-4c07-849c-6e0395e6ccec"
   },
   "outputs": [
    {
     "data": {
      "text/plain": [
       "array([[1, 5.1, 3.5, 1.4, 0.2, 'Iris-setosa'],\n",
       "       [2, 4.9, 3.0, 1.4, 0.2, 'Iris-setosa'],\n",
       "       [3, 4.7, 3.2, 1.3, 0.2, 'Iris-setosa'],\n",
       "       [4, 4.6, 3.1, 1.5, 0.2, 'Iris-setosa'],\n",
       "       [5, 5.0, 3.6, 1.4, 0.2, 'Iris-setosa'],\n",
       "       [6, 5.4, 3.9, 1.7, 0.4, 'Iris-setosa'],\n",
       "       [7, 4.6, 3.4, 1.4, 0.3, 'Iris-setosa'],\n",
       "       [8, 5.0, 3.4, 1.5, 0.2, 'Iris-setosa'],\n",
       "       [9, 4.4, 2.9, 1.4, 0.2, 'Iris-setosa'],\n",
       "       [10, 4.9, 3.1, 1.5, 0.1, 'Iris-setosa'],\n",
       "       [11, 5.4, 3.7, 1.5, 0.2, 'Iris-setosa'],\n",
       "       [12, 4.8, 3.4, 1.6, 0.2, 'Iris-setosa'],\n",
       "       [13, 4.8, 3.0, 1.4, 0.1, 'Iris-setosa'],\n",
       "       [14, 4.3, 3.0, 1.1, 0.1, 'Iris-setosa'],\n",
       "       [15, 5.8, 4.0, 1.2, 0.2, 'Iris-setosa'],\n",
       "       [16, 5.7, 4.4, 1.5, 0.4, 'Iris-setosa'],\n",
       "       [17, 5.4, 3.9, 1.3, 0.4, 'Iris-setosa'],\n",
       "       [18, 5.1, 3.5, 1.4, 0.3, 'Iris-setosa'],\n",
       "       [19, 5.7, 3.8, 1.7, 0.3, 'Iris-setosa'],\n",
       "       [20, 5.1, 3.8, 1.5, 0.3, 'Iris-setosa'],\n",
       "       [21, 5.4, 3.4, 1.7, 0.2, 'Iris-setosa'],\n",
       "       [22, 5.1, 3.7, 1.5, 0.4, 'Iris-setosa'],\n",
       "       [23, 4.6, 3.6, 1.0, 0.2, 'Iris-setosa'],\n",
       "       [24, 5.1, 3.3, 1.7, 0.5, 'Iris-setosa'],\n",
       "       [25, 4.8, 3.4, 1.9, 0.2, 'Iris-setosa'],\n",
       "       [26, 5.0, 3.0, 1.6, 0.2, 'Iris-setosa'],\n",
       "       [27, 5.0, 3.4, 1.6, 0.4, 'Iris-setosa'],\n",
       "       [28, 5.2, 3.5, 1.5, 0.2, 'Iris-setosa'],\n",
       "       [29, 5.2, 3.4, 1.4, 0.2, 'Iris-setosa'],\n",
       "       [30, 4.7, 3.2, 1.6, 0.2, 'Iris-setosa'],\n",
       "       [31, 4.8, 3.1, 1.6, 0.2, 'Iris-setosa'],\n",
       "       [32, 5.4, 3.4, 1.5, 0.4, 'Iris-setosa'],\n",
       "       [33, 5.2, 4.1, 1.5, 0.1, 'Iris-setosa'],\n",
       "       [34, 5.5, 4.2, 1.4, 0.2, 'Iris-setosa'],\n",
       "       [35, 4.9, 3.1, 1.5, 0.1, 'Iris-setosa'],\n",
       "       [36, 5.0, 3.2, 1.2, 0.2, 'Iris-setosa'],\n",
       "       [37, 5.5, 3.5, 1.3, 0.2, 'Iris-setosa'],\n",
       "       [38, 4.9, 3.1, 1.5, 0.1, 'Iris-setosa'],\n",
       "       [39, 4.4, 3.0, 1.3, 0.2, 'Iris-setosa'],\n",
       "       [40, 5.1, 3.4, 1.5, 0.2, 'Iris-setosa'],\n",
       "       [41, 5.0, 3.5, 1.3, 0.3, 'Iris-setosa'],\n",
       "       [42, 4.5, 2.3, 1.3, 0.3, 'Iris-setosa'],\n",
       "       [43, 4.4, 3.2, 1.3, 0.2, 'Iris-setosa'],\n",
       "       [44, 5.0, 3.5, 1.6, 0.6, 'Iris-setosa'],\n",
       "       [45, 5.1, 3.8, 1.9, 0.4, 'Iris-setosa'],\n",
       "       [46, 4.8, 3.0, 1.4, 0.3, 'Iris-setosa'],\n",
       "       [47, 5.1, 3.8, 1.6, 0.2, 'Iris-setosa'],\n",
       "       [48, 4.6, 3.2, 1.4, 0.2, 'Iris-setosa'],\n",
       "       [49, 5.3, 3.7, 1.5, 0.2, 'Iris-setosa'],\n",
       "       [50, 5.0, 3.3, 1.4, 0.2, 'Iris-setosa'],\n",
       "       [51, 7.0, 3.2, 4.7, 1.4, 'Iris-versicolor'],\n",
       "       [52, 6.4, 3.2, 4.5, 1.5, 'Iris-versicolor'],\n",
       "       [53, 6.9, 3.1, 4.9, 1.5, 'Iris-versicolor'],\n",
       "       [54, 5.5, 2.3, 4.0, 1.3, 'Iris-versicolor'],\n",
       "       [55, 6.5, 2.8, 4.6, 1.5, 'Iris-versicolor'],\n",
       "       [56, 5.7, 2.8, 4.5, 1.3, 'Iris-versicolor'],\n",
       "       [57, 6.3, 3.3, 4.7, 1.6, 'Iris-versicolor'],\n",
       "       [58, 4.9, 2.4, 3.3, 1.0, 'Iris-versicolor'],\n",
       "       [59, 6.6, 2.9, 4.6, 1.3, 'Iris-versicolor'],\n",
       "       [60, 5.2, 2.7, 3.9, 1.4, 'Iris-versicolor'],\n",
       "       [61, 5.0, 2.0, 3.5, 1.0, 'Iris-versicolor'],\n",
       "       [62, 5.9, 3.0, 4.2, 1.5, 'Iris-versicolor'],\n",
       "       [63, 6.0, 2.2, 4.0, 1.0, 'Iris-versicolor'],\n",
       "       [64, 6.1, 2.9, 4.7, 1.4, 'Iris-versicolor'],\n",
       "       [65, 5.6, 2.9, 3.6, 1.3, 'Iris-versicolor'],\n",
       "       [66, 6.7, 3.1, 4.4, 1.4, 'Iris-versicolor'],\n",
       "       [67, 5.6, 3.0, 4.5, 1.5, 'Iris-versicolor'],\n",
       "       [68, 5.8, 2.7, 4.1, 1.0, 'Iris-versicolor'],\n",
       "       [69, 6.2, 2.2, 4.5, 1.5, 'Iris-versicolor'],\n",
       "       [70, 5.6, 2.5, 3.9, 1.1, 'Iris-versicolor'],\n",
       "       [71, 5.9, 3.2, 4.8, 1.8, 'Iris-versicolor'],\n",
       "       [72, 6.1, 2.8, 4.0, 1.3, 'Iris-versicolor'],\n",
       "       [73, 6.3, 2.5, 4.9, 1.5, 'Iris-versicolor'],\n",
       "       [74, 6.1, 2.8, 4.7, 1.2, 'Iris-versicolor'],\n",
       "       [75, 6.4, 2.9, 4.3, 1.3, 'Iris-versicolor'],\n",
       "       [76, 6.6, 3.0, 4.4, 1.4, 'Iris-versicolor'],\n",
       "       [77, 6.8, 2.8, 4.8, 1.4, 'Iris-versicolor'],\n",
       "       [78, 6.7, 3.0, 5.0, 1.7, 'Iris-versicolor'],\n",
       "       [79, 6.0, 2.9, 4.5, 1.5, 'Iris-versicolor'],\n",
       "       [80, 5.7, 2.6, 3.5, 1.0, 'Iris-versicolor'],\n",
       "       [81, 5.5, 2.4, 3.8, 1.1, 'Iris-versicolor'],\n",
       "       [82, 5.5, 2.4, 3.7, 1.0, 'Iris-versicolor'],\n",
       "       [83, 5.8, 2.7, 3.9, 1.2, 'Iris-versicolor'],\n",
       "       [84, 6.0, 2.7, 5.1, 1.6, 'Iris-versicolor'],\n",
       "       [85, 5.4, 3.0, 4.5, 1.5, 'Iris-versicolor'],\n",
       "       [86, 6.0, 3.4, 4.5, 1.6, 'Iris-versicolor'],\n",
       "       [87, 6.7, 3.1, 4.7, 1.5, 'Iris-versicolor'],\n",
       "       [88, 6.3, 2.3, 4.4, 1.3, 'Iris-versicolor'],\n",
       "       [89, 5.6, 3.0, 4.1, 1.3, 'Iris-versicolor'],\n",
       "       [90, 5.5, 2.5, 4.0, 1.3, 'Iris-versicolor'],\n",
       "       [91, 5.5, 2.6, 4.4, 1.2, 'Iris-versicolor'],\n",
       "       [92, 6.1, 3.0, 4.6, 1.4, 'Iris-versicolor'],\n",
       "       [93, 5.8, 2.6, 4.0, 1.2, 'Iris-versicolor'],\n",
       "       [94, 5.0, 2.3, 3.3, 1.0, 'Iris-versicolor'],\n",
       "       [95, 5.6, 2.7, 4.2, 1.3, 'Iris-versicolor'],\n",
       "       [96, 5.7, 3.0, 4.2, 1.2, 'Iris-versicolor'],\n",
       "       [97, 5.7, 2.9, 4.2, 1.3, 'Iris-versicolor'],\n",
       "       [98, 6.2, 2.9, 4.3, 1.3, 'Iris-versicolor'],\n",
       "       [99, 5.1, 2.5, 3.0, 1.1, 'Iris-versicolor'],\n",
       "       [100, 5.7, 2.8, 4.1, 1.3, 'Iris-versicolor'],\n",
       "       [101, 6.3, 3.3, 6.0, 2.5, 'Iris-virginica'],\n",
       "       [102, 5.8, 2.7, 5.1, 1.9, 'Iris-virginica'],\n",
       "       [103, 7.1, 3.0, 5.9, 2.1, 'Iris-virginica'],\n",
       "       [104, 6.3, 2.9, 5.6, 1.8, 'Iris-virginica'],\n",
       "       [105, 6.5, 3.0, 5.8, 2.2, 'Iris-virginica'],\n",
       "       [106, 7.6, 3.0, 6.6, 2.1, 'Iris-virginica'],\n",
       "       [107, 4.9, 2.5, 4.5, 1.7, 'Iris-virginica'],\n",
       "       [108, 7.3, 2.9, 6.3, 1.8, 'Iris-virginica'],\n",
       "       [109, 6.7, 2.5, 5.8, 1.8, 'Iris-virginica'],\n",
       "       [110, 7.2, 3.6, 6.1, 2.5, 'Iris-virginica'],\n",
       "       [111, 6.5, 3.2, 5.1, 2.0, 'Iris-virginica'],\n",
       "       [112, 6.4, 2.7, 5.3, 1.9, 'Iris-virginica'],\n",
       "       [113, 6.8, 3.0, 5.5, 2.1, 'Iris-virginica'],\n",
       "       [114, 5.7, 2.5, 5.0, 2.0, 'Iris-virginica'],\n",
       "       [115, 5.8, 2.8, 5.1, 2.4, 'Iris-virginica'],\n",
       "       [116, 6.4, 3.2, 5.3, 2.3, 'Iris-virginica'],\n",
       "       [117, 6.5, 3.0, 5.5, 1.8, 'Iris-virginica'],\n",
       "       [118, 7.7, 3.8, 6.7, 2.2, 'Iris-virginica'],\n",
       "       [119, 7.7, 2.6, 6.9, 2.3, 'Iris-virginica'],\n",
       "       [120, 6.0, 2.2, 5.0, 1.5, 'Iris-virginica'],\n",
       "       [121, 6.9, 3.2, 5.7, 2.3, 'Iris-virginica'],\n",
       "       [122, 5.6, 2.8, 4.9, 2.0, 'Iris-virginica'],\n",
       "       [123, 7.7, 2.8, 6.7, 2.0, 'Iris-virginica'],\n",
       "       [124, 6.3, 2.7, 4.9, 1.8, 'Iris-virginica'],\n",
       "       [125, 6.7, 3.3, 5.7, 2.1, 'Iris-virginica'],\n",
       "       [126, 7.2, 3.2, 6.0, 1.8, 'Iris-virginica'],\n",
       "       [127, 6.2, 2.8, 4.8, 1.8, 'Iris-virginica'],\n",
       "       [128, 6.1, 3.0, 4.9, 1.8, 'Iris-virginica'],\n",
       "       [129, 6.4, 2.8, 5.6, 2.1, 'Iris-virginica'],\n",
       "       [130, 7.2, 3.0, 5.8, 1.6, 'Iris-virginica'],\n",
       "       [131, 7.4, 2.8, 6.1, 1.9, 'Iris-virginica'],\n",
       "       [132, 7.9, 3.8, 6.4, 2.0, 'Iris-virginica'],\n",
       "       [133, 6.4, 2.8, 5.6, 2.2, 'Iris-virginica'],\n",
       "       [134, 6.3, 2.8, 5.1, 1.5, 'Iris-virginica'],\n",
       "       [135, 6.1, 2.6, 5.6, 1.4, 'Iris-virginica'],\n",
       "       [136, 7.7, 3.0, 6.1, 2.3, 'Iris-virginica'],\n",
       "       [137, 6.3, 3.4, 5.6, 2.4, 'Iris-virginica'],\n",
       "       [138, 6.4, 3.1, 5.5, 1.8, 'Iris-virginica'],\n",
       "       [139, 6.0, 3.0, 4.8, 1.8, 'Iris-virginica'],\n",
       "       [140, 6.9, 3.1, 5.4, 2.1, 'Iris-virginica'],\n",
       "       [141, 6.7, 3.1, 5.6, 2.4, 'Iris-virginica'],\n",
       "       [142, 6.9, 3.1, 5.1, 2.3, 'Iris-virginica'],\n",
       "       [143, 5.8, 2.7, 5.1, 1.9, 'Iris-virginica'],\n",
       "       [144, 6.8, 3.2, 5.9, 2.3, 'Iris-virginica'],\n",
       "       [145, 6.7, 3.3, 5.7, 2.5, 'Iris-virginica'],\n",
       "       [146, 6.7, 3.0, 5.2, 2.3, 'Iris-virginica'],\n",
       "       [147, 6.3, 2.5, 5.0, 1.9, 'Iris-virginica'],\n",
       "       [148, 6.5, 3.0, 5.2, 2.0, 'Iris-virginica'],\n",
       "       [149, 6.2, 3.4, 5.4, 2.3, 'Iris-virginica'],\n",
       "       [150, 5.9, 3.0, 5.1, 1.8, 'Iris-virginica']], dtype=object)"
      ]
     },
     "execution_count": 36,
     "metadata": {},
     "output_type": "execute_result"
    }
   ],
   "source": [
    "#checking the values of the dataset\n",
    "iris_df.values"
   ]
  },
  {
   "cell_type": "code",
   "execution_count": 37,
   "metadata": {
    "colab": {
     "base_uri": "https://localhost:8080/"
    },
    "id": "0HzG4aLwz33i",
    "outputId": "bc25f163-3929-4d9b-c35d-802bd47c407b"
   },
   "outputs": [
    {
     "data": {
      "text/plain": [
       "Id               0\n",
       "SepalLengthCm    0\n",
       "SepalWidthCm     0\n",
       "PetalLengthCm    0\n",
       "PetalWidthCm     0\n",
       "Species          0\n",
       "dtype: int64"
      ]
     },
     "execution_count": 37,
     "metadata": {},
     "output_type": "execute_result"
    }
   ],
   "source": [
    "#checking for missing values\n",
    "iris_df.isnull().sum()"
   ]
  },
  {
   "cell_type": "markdown",
   "metadata": {
    "id": "KNyZCEz2ItDQ"
   },
   "source": [
    "### Finding the optimum number of clusters for k-means classification(main objective of the task)"
   ]
  },
  {
   "cell_type": "code",
   "execution_count": 38,
   "metadata": {
    "colab": {
     "base_uri": "https://localhost:8080/",
     "height": 295
    },
    "id": "4BFoarC_z7NA",
    "outputId": "d0741f32-677a-488f-abc7-94b91acb7957"
   },
   "outputs": [
    {
     "data": {
      "image/png": "[encoded data removed]",
      "text/plain": [
       "<Figure size 432x288 with 1 Axes>"
      ]
     },
     "metadata": {},
     "output_type": "display_data"
    }
   ],
   "source": [
    "x = iris_df.iloc[:, [0, 1, 2, 3]].values\n",
    "wcss = []  #Within cluster sum of squares\n",
    "\n",
    "for i in range(1, 11):\n",
    "    km = KMeans(n_clusters=i)\n",
    "  \n",
    "    km.fit(x)\n",
    "    wcss.append(km.inertia_)\n",
    "    \n",
    "# Plotting the results onto a line graph, \n",
    "\n",
    "\n",
    "\n",
    "#THE ELBOW METHOD\n",
    "plt.plot(range(1, 11), wcss)\n",
    "plt.title('The elbow method')\n",
    "plt.xlabel('Number of clusters')\n",
    "plt.ylabel('WCSS') # Within cluster sum of squares\n",
    "plt.show()"
   ]
  },
  {
   "cell_type": "code",
   "execution_count": null,
   "metadata": {
    "id": "FznjsR4EIsac"
   },
   "outputs": [],
   "source": []
  },
  {
   "cell_type": "code",
   "execution_count": 39,
   "metadata": {
    "colab": {
     "base_uri": "https://localhost:8080/"
    },
    "id": "KHDX8mTjz9sW",
    "outputId": "b92e47d3-a6b4-4438-8a19-8e75b8c4fc62"
   },
   "outputs": [
    {
     "data": {
      "text/plain": [
       "array([1, 1, 1, 1, 1, 1, 1, 1, 1, 1, 1, 1, 1, 1, 1, 1, 1, 1, 1, 1, 1, 1,\n",
       "       1, 1, 1, 1, 1, 1, 1, 1, 1, 1, 1, 1, 1, 1, 1, 1, 1, 1, 1, 1, 1, 1,\n",
       "       1, 1, 1, 1, 1, 1, 2, 2, 2, 2, 2, 2, 2, 2, 2, 2, 2, 2, 2, 2, 2, 2,\n",
       "       2, 2, 2, 2, 2, 2, 2, 2, 2, 2, 2, 2, 2, 2, 2, 2, 2, 2, 2, 2, 2, 2,\n",
       "       2, 2, 2, 2, 2, 2, 2, 2, 2, 2, 2, 2, 0, 0, 0, 0, 0, 0, 0, 0, 0, 0,\n",
       "       0, 0, 0, 0, 0, 0, 0, 0, 0, 0, 0, 0, 0, 0, 0, 0, 0, 0, 0, 0, 0, 0,\n",
       "       0, 0, 0, 0, 0, 0, 0, 0, 0, 0, 0, 0, 0, 0, 0, 0, 0, 0])"
      ]
     },
     "execution_count": 39,
     "metadata": {},
     "output_type": "execute_result"
    }
   ],
   "source": [
    "# Applying Kmeans to the dataset / Creating the kmeans classifier\n",
    "\n",
    "\n",
    "kmeans = KMeans(n_clusters = 3, init = 'k-means++',max_iter = 300, n_init = 10, random_state = 0)\n",
    "#As you see there are 3 cluster I make in the n_clusters value.\n",
    "\n",
    "y_kmeans = kmeans.fit_predict(x)\n",
    "\n",
    "\n",
    "y_kmeans #or you can use kmeans.labels_ to label the data into 3 clusters as you see below output"
   ]
  },
  {
   "cell_type": "code",
   "execution_count": 40,
   "metadata": {
    "colab": {
     "base_uri": "https://localhost:8080/",
     "height": 358
    },
    "id": "p_AWTjRC0ALy",
    "outputId": "f8e2e15c-1b89-44f2-fc85-8ff18d78d96f"
   },
   "outputs": [
    {
     "data": {
      "text/html": [
       "<div>\n",
       "<style scoped>\n",
       "    .dataframe tbody tr th:only-of-type {\n",
       "        vertical-align: middle;\n",
       "    }\n",
       "\n",
       "    .dataframe tbody tr th {\n",
       "        vertical-align: top;\n",
       "    }\n",
       "\n",
       "    .dataframe thead th {\n",
       "        text-align: right;\n",
       "    }\n",
       "</style>\n",
       "<table border=\"1\" class=\"dataframe\">\n",
       "  <thead>\n",
       "    <tr style=\"text-align: right;\">\n",
       "      <th></th>\n",
       "      <th>sl</th>\n",
       "      <th>sw</th>\n",
       "      <th>pl</th>\n",
       "      <th>pw</th>\n",
       "      <th>y_kmeans</th>\n",
       "    </tr>\n",
       "  </thead>\n",
       "  <tbody>\n",
       "    <tr>\n",
       "      <th>0</th>\n",
       "      <td>1.0</td>\n",
       "      <td>5.1</td>\n",
       "      <td>3.5</td>\n",
       "      <td>1.4</td>\n",
       "      <td>1</td>\n",
       "    </tr>\n",
       "    <tr>\n",
       "      <th>1</th>\n",
       "      <td>2.0</td>\n",
       "      <td>4.9</td>\n",
       "      <td>3.0</td>\n",
       "      <td>1.4</td>\n",
       "      <td>1</td>\n",
       "    </tr>\n",
       "    <tr>\n",
       "      <th>2</th>\n",
       "      <td>3.0</td>\n",
       "      <td>4.7</td>\n",
       "      <td>3.2</td>\n",
       "      <td>1.3</td>\n",
       "      <td>1</td>\n",
       "    </tr>\n",
       "    <tr>\n",
       "      <th>3</th>\n",
       "      <td>4.0</td>\n",
       "      <td>4.6</td>\n",
       "      <td>3.1</td>\n",
       "      <td>1.5</td>\n",
       "      <td>1</td>\n",
       "    </tr>\n",
       "    <tr>\n",
       "      <th>4</th>\n",
       "      <td>5.0</td>\n",
       "      <td>5.0</td>\n",
       "      <td>3.6</td>\n",
       "      <td>1.4</td>\n",
       "      <td>1</td>\n",
       "    </tr>\n",
       "    <tr>\n",
       "      <th>5</th>\n",
       "      <td>6.0</td>\n",
       "      <td>5.4</td>\n",
       "      <td>3.9</td>\n",
       "      <td>1.7</td>\n",
       "      <td>1</td>\n",
       "    </tr>\n",
       "    <tr>\n",
       "      <th>6</th>\n",
       "      <td>7.0</td>\n",
       "      <td>4.6</td>\n",
       "      <td>3.4</td>\n",
       "      <td>1.4</td>\n",
       "      <td>1</td>\n",
       "    </tr>\n",
       "    <tr>\n",
       "      <th>7</th>\n",
       "      <td>8.0</td>\n",
       "      <td>5.0</td>\n",
       "      <td>3.4</td>\n",
       "      <td>1.5</td>\n",
       "      <td>1</td>\n",
       "    </tr>\n",
       "    <tr>\n",
       "      <th>8</th>\n",
       "      <td>9.0</td>\n",
       "      <td>4.4</td>\n",
       "      <td>2.9</td>\n",
       "      <td>1.4</td>\n",
       "      <td>1</td>\n",
       "    </tr>\n",
       "    <tr>\n",
       "      <th>9</th>\n",
       "      <td>10.0</td>\n",
       "      <td>4.9</td>\n",
       "      <td>3.1</td>\n",
       "      <td>1.5</td>\n",
       "      <td>1</td>\n",
       "    </tr>\n",
       "  </tbody>\n",
       "</table>\n",
       "</div>"
      ],
      "text/plain": [
       "     sl   sw   pl   pw  y_kmeans\n",
       "0   1.0  5.1  3.5  1.4         1\n",
       "1   2.0  4.9  3.0  1.4         1\n",
       "2   3.0  4.7  3.2  1.3         1\n",
       "3   4.0  4.6  3.1  1.5         1\n",
       "4   5.0  5.0  3.6  1.4         1\n",
       "5   6.0  5.4  3.9  1.7         1\n",
       "6   7.0  4.6  3.4  1.4         1\n",
       "7   8.0  5.0  3.4  1.5         1\n",
       "8   9.0  4.4  2.9  1.4         1\n",
       "9  10.0  4.9  3.1  1.5         1"
      ]
     },
     "execution_count": 40,
     "metadata": {},
     "output_type": "execute_result"
    }
   ],
   "source": [
    "#creating an another dataframe and adding an extra column which has the cluster number.\n",
    "\n",
    "df = pd.DataFrame(x, columns = ['sl','sw','pl','pw'])\n",
    "\n",
    "df['y_kmeans'] = y_kmeans\n",
    "\n",
    "df.head(10)"
   ]
  },
  {
   "cell_type": "code",
   "execution_count": 41,
   "metadata": {
    "colab": {
     "base_uri": "https://localhost:8080/",
     "height": 283
    },
    "id": "b5K8MfDY0DFp",
    "outputId": "a770a9e7-19c0-4af0-b10a-7a4979a69b65"
   },
   "outputs": [
    {
     "data": {
      "text/plain": [
       "<matplotlib.legend.Legend at 0x21d0879e5b0>"
      ]
     },
     "execution_count": 41,
     "metadata": {},
     "output_type": "execute_result"
    },
    {
     "data": {
      "image/png": "[encoded data removed]",
      "text/plain": [
       "<Figure size 432x288 with 1 Axes>"
      ]
     },
     "metadata": {},
     "output_type": "display_data"
    }
   ],
   "source": [
    "# Visualising the clusters - On the first and third columns\n",
    "\n",
    "#Plotting the first cluster\n",
    "plt.scatter(x[y_kmeans ==0,0], x[y_kmeans ==0,2], label = 'Cluster 1')\n",
    "\n",
    "#Plotting the second cluster\n",
    "plt.scatter(x[y_kmeans ==1,0], x[y_kmeans ==1,2], label = 'Cluster 2')\n",
    "\n",
    "#Plotting the third cluster\n",
    "plt.scatter(x[y_kmeans ==2,0], x[y_kmeans ==2,2], label = 'Cluster 3')\n",
    "\n",
    "\n",
    "# Plotting the centroids of the clusters\n",
    "plt.scatter(kmeans.cluster_centers_[:, 0], kmeans.cluster_centers_[:,2], \n",
    "            s = 100, c = 'violet', label = 'Centroids')\n",
    "\n",
    "plt.legend()"
   ]
  },
  {
   "cell_type": "code",
   "execution_count": 42,
   "metadata": {},
   "outputs": [
    {
     "data": {
      "text/html": [
       "<div>\n",
       "<style scoped>\n",
       "    .dataframe tbody tr th:only-of-type {\n",
       "        vertical-align: middle;\n",
       "    }\n",
       "\n",
       "    .dataframe tbody tr th {\n",
       "        vertical-align: top;\n",
       "    }\n",
       "\n",
       "    .dataframe thead th {\n",
       "        text-align: right;\n",
       "    }\n",
       "</style>\n",
       "<table border=\"1\" class=\"dataframe\">\n",
       "  <thead>\n",
       "    <tr style=\"text-align: right;\">\n",
       "      <th></th>\n",
       "      <th>sl</th>\n",
       "      <th>sw</th>\n",
       "      <th>pl</th>\n",
       "      <th>pw</th>\n",
       "      <th>y_kmeans</th>\n",
       "    </tr>\n",
       "  </thead>\n",
       "  <tbody>\n",
       "    <tr>\n",
       "      <th>0</th>\n",
       "      <td>1.0</td>\n",
       "      <td>5.1</td>\n",
       "      <td>3.5</td>\n",
       "      <td>1.4</td>\n",
       "      <td>1</td>\n",
       "    </tr>\n",
       "    <tr>\n",
       "      <th>1</th>\n",
       "      <td>2.0</td>\n",
       "      <td>4.9</td>\n",
       "      <td>3.0</td>\n",
       "      <td>1.4</td>\n",
       "      <td>1</td>\n",
       "    </tr>\n",
       "    <tr>\n",
       "      <th>2</th>\n",
       "      <td>3.0</td>\n",
       "      <td>4.7</td>\n",
       "      <td>3.2</td>\n",
       "      <td>1.3</td>\n",
       "      <td>1</td>\n",
       "    </tr>\n",
       "    <tr>\n",
       "      <th>3</th>\n",
       "      <td>4.0</td>\n",
       "      <td>4.6</td>\n",
       "      <td>3.1</td>\n",
       "      <td>1.5</td>\n",
       "      <td>1</td>\n",
       "    </tr>\n",
       "    <tr>\n",
       "      <th>4</th>\n",
       "      <td>5.0</td>\n",
       "      <td>5.0</td>\n",
       "      <td>3.6</td>\n",
       "      <td>1.4</td>\n",
       "      <td>1</td>\n",
       "    </tr>\n",
       "  </tbody>\n",
       "</table>\n",
       "</div>"
      ],
      "text/plain": [
       "    sl   sw   pl   pw  y_kmeans\n",
       "0  1.0  5.1  3.5  1.4         1\n",
       "1  2.0  4.9  3.0  1.4         1\n",
       "2  3.0  4.7  3.2  1.3         1\n",
       "3  4.0  4.6  3.1  1.5         1\n",
       "4  5.0  5.0  3.6  1.4         1"
      ]
     },
     "execution_count": 42,
     "metadata": {},
     "output_type": "execute_result"
    }
   ],
   "source": [
    "df.head()#check the cluster value in y_means at the top 5 rows"
   ]
  },
  {
   "cell_type": "code",
   "execution_count": 43,
   "metadata": {
    "colab": {
     "base_uri": "https://localhost:8080/",
     "height": 204
    },
    "id": "jlZVJovw0JEF",
    "outputId": "fdd44743-a16b-41d8-8824-02c4d2361fb3"
   },
   "outputs": [
    {
     "data": {
      "text/html": [
       "<div>\n",
       "<style scoped>\n",
       "    .dataframe tbody tr th:only-of-type {\n",
       "        vertical-align: middle;\n",
       "    }\n",
       "\n",
       "    .dataframe tbody tr th {\n",
       "        vertical-align: top;\n",
       "    }\n",
       "\n",
       "    .dataframe thead th {\n",
       "        text-align: right;\n",
       "    }\n",
       "</style>\n",
       "<table border=\"1\" class=\"dataframe\">\n",
       "  <thead>\n",
       "    <tr style=\"text-align: right;\">\n",
       "      <th></th>\n",
       "      <th>sl</th>\n",
       "      <th>sw</th>\n",
       "      <th>pl</th>\n",
       "      <th>pw</th>\n",
       "      <th>y_kmeans</th>\n",
       "    </tr>\n",
       "  </thead>\n",
       "  <tbody>\n",
       "    <tr>\n",
       "      <th>145</th>\n",
       "      <td>146.0</td>\n",
       "      <td>6.7</td>\n",
       "      <td>3.0</td>\n",
       "      <td>5.2</td>\n",
       "      <td>0</td>\n",
       "    </tr>\n",
       "    <tr>\n",
       "      <th>146</th>\n",
       "      <td>147.0</td>\n",
       "      <td>6.3</td>\n",
       "      <td>2.5</td>\n",
       "      <td>5.0</td>\n",
       "      <td>0</td>\n",
       "    </tr>\n",
       "    <tr>\n",
       "      <th>147</th>\n",
       "      <td>148.0</td>\n",
       "      <td>6.5</td>\n",
       "      <td>3.0</td>\n",
       "      <td>5.2</td>\n",
       "      <td>0</td>\n",
       "    </tr>\n",
       "    <tr>\n",
       "      <th>148</th>\n",
       "      <td>149.0</td>\n",
       "      <td>6.2</td>\n",
       "      <td>3.4</td>\n",
       "      <td>5.4</td>\n",
       "      <td>0</td>\n",
       "    </tr>\n",
       "    <tr>\n",
       "      <th>149</th>\n",
       "      <td>150.0</td>\n",
       "      <td>5.9</td>\n",
       "      <td>3.0</td>\n",
       "      <td>5.1</td>\n",
       "      <td>0</td>\n",
       "    </tr>\n",
       "  </tbody>\n",
       "</table>\n",
       "</div>"
      ],
      "text/plain": [
       "        sl   sw   pl   pw  y_kmeans\n",
       "145  146.0  6.7  3.0  5.2         0\n",
       "146  147.0  6.3  2.5  5.0         0\n",
       "147  148.0  6.5  3.0  5.2         0\n",
       "148  149.0  6.2  3.4  5.4         0\n",
       "149  150.0  5.9  3.0  5.1         0"
      ]
     },
     "execution_count": 43,
     "metadata": {},
     "output_type": "execute_result"
    }
   ],
   "source": [
    "df.tail()#check the cluster value in y_means at the bottom 5 rows"
   ]
  },
  {
   "cell_type": "code",
   "execution_count": 44,
   "metadata": {
    "colab": {
     "base_uri": "https://localhost:8080/",
     "height": 195
    },
    "id": "ys2T_dtA0Lo6",
    "outputId": "12b1a072-5ac7-4dda-a83e-f130377bbb19"
   },
   "outputs": [
    {
     "data": {
      "text/plain": [
       "array([1])"
      ]
     },
     "execution_count": 44,
     "metadata": {},
     "output_type": "execute_result"
    }
   ],
   "source": [
    "#predicting the cluster of my own data by Kmeans \n",
    "x = [5.9,3.0,5.1,1.8]\n",
    "kmeans.predict([x])"
   ]
  },
  {
   "cell_type": "code",
   "execution_count": null,
   "metadata": {},
   "outputs": [],
   "source": []
  }
 ],
 "metadata": {
  "colab": {
   "name": "Task 2.ipynb",
   "provenance": []
  },
  "kernelspec": {
   "display_name": "Python 3",
   "language": "python",
   "name": "python3"
  },
  "language_info": {
   "codemirror_mode": {
    "name": "ipython",
    "version": 3
   },
   "file_extension": ".py",
   "mimetype": "text/x-python",
   "name": "python",
   "nbconvert_exporter": "python",
   "pygments_lexer": "ipython3",
   "version": "3.8.3"
  }
 },
 "nbformat": 4,
 "nbformat_minor": 1
}
